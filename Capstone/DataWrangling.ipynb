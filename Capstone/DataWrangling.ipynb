{
 "cells": [
  {
   "cell_type": "code",
   "execution_count": 33,
   "id": "957ebeef",
   "metadata": {
    "scrolled": true
   },
   "outputs": [],
   "source": [
    "# Import the 3 datasets for SQuAD \n",
    "import json\n",
    "\n",
    "# Opening JSON \n",
    "loc = r'.\\Stanford Question Answering Dataset\\train-v1.1.json'\n",
    "with open(loc) as f:\n",
    "    train = json.load(f)\n",
    "\n",
    "loc2 = r'.\\Stanford Question Answering Dataset\\dev-v1.1.json'\n",
    "with open(loc2) as f:\n",
    "    dev = json.load(f)"
   ]
  },
  {
   "cell_type": "code",
   "execution_count": 38,
   "id": "e5586d5f",
   "metadata": {},
   "outputs": [],
   "source": [
    "# Stanford Question Answering Dataset (SQuAD)\n",
    "train = pd.read_csv(r\"C:\\Users\\Kathy\\develop\\UCSD Bootcamp\\Capstone Prep\\Stanford Question Answering Dataset (SQuAD)\\train.csv\")\n",
    "validation = pd.read_csv(r\"C:\\Users\\Kathy\\develop\\UCSD Bootcamp\\Capstone Prep\\Stanford Question Answering Dataset (SQuAD)\\validation.csv\")"
   ]
  },
  {
   "cell_type": "code",
   "execution_count": null,
   "id": "8da9cfad",
   "metadata": {},
   "outputs": [],
   "source": [
    "# Question-Answer Dataset\n",
    "# qa1 = pd.read_fwf(r\"C:\\Users\\Kathy\\develop\\UCSD Bootcamp\\Capstone Prep\\Question-Answer Dataset\\S08_question_answer_pairs.txt\", delimiter = \"\\t\")\n",
    "# qa2 = pd.read_fwf(r\"C:\\Users\\Kathy\\develop\\UCSD Bootcamp\\Capstone Prep\\Question-Answer Dataset\\S09_question_answer_pairs.txt\")\n",
    "# qa3 = pd.read_fwf(r\"C:\\Users\\Kathy\\develop\\UCSD Bootcamp\\Capstone Prep\\Question-Answer Dataset\\S10_question_answer_pairs.txt\")"
   ]
  },
  {
   "cell_type": "code",
   "execution_count": null,
   "id": "114fabbc",
   "metadata": {},
   "outputs": [],
   "source": []
  },
  {
   "cell_type": "code",
   "execution_count": null,
   "id": "6284dfa3",
   "metadata": {},
   "outputs": [],
   "source": [
    "# Realize SQuAD is also in datasets package\n",
    "import pandas as pd\n",
    "import json\n",
    "import os\n",
    "from transformers import pipeline\n",
    "# https://stackoverflow.com/questions/74586892/no-module-named-keras-saving-hdf5-format\n",
    "# https://huggingface.co/learn/nlp-course/chapter2/6?fw=pt\n",
    "\n",
    "print(os.getcwd())"
   ]
  },
  {
   "cell_type": "code",
   "execution_count": 1,
   "id": "a2731d43",
   "metadata": {},
   "outputs": [],
   "source": [
    "from datasets import load_dataset\n",
    "squad = load_dataset(\"squad\")"
   ]
  },
  {
   "cell_type": "code",
   "execution_count": 4,
   "id": "f33685c7",
   "metadata": {
    "scrolled": true
   },
   "outputs": [],
   "source": [
    "from transformers import pipeline, AutoTokenizer\n",
    "tokenizer = AutoTokenizer.from_pretrained(\"distilbert-base-uncased\")"
   ]
  },
  {
   "cell_type": "code",
   "execution_count": 5,
   "id": "fc0e5ae6",
   "metadata": {},
   "outputs": [],
   "source": [
    "def preprocess_function(examples):\n",
    "    questions = [q.strip() for q in examples[\"question\"]]\n",
    "    inputs = tokenizer(\n",
    "        questions,\n",
    "        examples[\"context\"],\n",
    "        max_length=384,\n",
    "        truncation=\"only_second\",\n",
    "        return_offsets_mapping=True,\n",
    "        padding=\"max_length\",\n",
    "    )\n",
    "\n",
    "    offset_mapping = inputs.pop(\"offset_mapping\")\n",
    "    answers = examples[\"answers\"]\n",
    "    start_positions = []\n",
    "    end_positions = []\n",
    "\n",
    "    for i, offset in enumerate(offset_mapping):\n",
    "        answer = answers[i]\n",
    "        start_char = answer[\"answer_start\"][0]\n",
    "        end_char = answer[\"answer_start\"][0] + len(answer[\"text\"][0])\n",
    "        sequence_ids = inputs.sequence_ids(i)\n",
    "\n",
    "        # Find the start and end of the context\n",
    "        idx = 0\n",
    "        while sequence_ids[idx] != 1:\n",
    "            idx += 1\n",
    "        context_start = idx\n",
    "        while sequence_ids[idx] == 1:\n",
    "            idx += 1\n",
    "        context_end = idx - 1\n",
    "\n",
    "        # If the answer is not fully inside the context, label it (0, 0)\n",
    "        if offset[context_start][0] > end_char or offset[context_end][1] < start_char:\n",
    "            start_positions.append(0)\n",
    "            end_positions.append(0)\n",
    "        else:\n",
    "            # Otherwise it's the start and end token positions\n",
    "            idx = context_start\n",
    "            while idx <= context_end and offset[idx][0] <= start_char:\n",
    "                idx += 1\n",
    "            start_positions.append(idx - 1)\n",
    "\n",
    "            idx = context_end\n",
    "            while idx >= context_start and offset[idx][1] >= end_char:\n",
    "                idx -= 1\n",
    "            end_positions.append(idx + 1)\n",
    "\n",
    "    inputs[\"start_positions\"] = start_positions\n",
    "    inputs[\"end_positions\"] = end_positions\n",
    "    return inputs"
   ]
  },
  {
   "cell_type": "code",
   "execution_count": 6,
   "id": "18d3965b",
   "metadata": {},
   "outputs": [
    {
     "data": {
      "application/vnd.jupyter.widget-view+json": {
       "model_id": "9c389d3280264346b73b2c67b8b68ac6",
       "version_major": 2,
       "version_minor": 0
      },
      "text/plain": [
       "Map:   0%|          | 0/4000 [00:00<?, ? examples/s]"
      ]
     },
     "metadata": {},
     "output_type": "display_data"
    },
    {
     "data": {
      "application/vnd.jupyter.widget-view+json": {
       "model_id": "62c3a95036384f739797133f6d6b762e",
       "version_major": 2,
       "version_minor": 0
      },
      "text/plain": [
       "Map:   0%|          | 0/1000 [00:00<?, ? examples/s]"
      ]
     },
     "metadata": {},
     "output_type": "display_data"
    }
   ],
   "source": [
    "tokenized_squad = squad.map(preprocess_function, batched=True, \n",
    "                            remove_columns=squad[\"train\"].column_names)"
   ]
  },
  {
   "cell_type": "code",
   "execution_count": 8,
   "id": "a48c7147",
   "metadata": {},
   "outputs": [],
   "source": [
    "from transformers import DefaultDataCollator\n",
    "data_collator = DefaultDataCollator()"
   ]
  },
  {
   "cell_type": "code",
   "execution_count": 9,
   "id": "b580272c",
   "metadata": {
    "scrolled": true
   },
   "outputs": [
    {
     "name": "stderr",
     "output_type": "stream",
     "text": [
      "Some weights of DistilBertForQuestionAnswering were not initialized from the model checkpoint at distilbert-base-uncased and are newly initialized: ['qa_outputs.weight', 'qa_outputs.bias']\n",
      "You should probably TRAIN this model on a down-stream task to be able to use it for predictions and inference.\n"
     ]
    }
   ],
   "source": [
    "from transformers import AutoModelForQuestionAnswering, TrainingArguments, Trainer\n",
    "model = AutoModelForQuestionAnswering.from_pretrained(\"distilbert-base-uncased\")"
   ]
  },
  {
   "cell_type": "code",
   "execution_count": null,
   "id": "9a856b07",
   "metadata": {},
   "outputs": [],
   "source": [
    "# dataset is tokenized and ready to use for model"
   ]
  }
 ],
 "metadata": {
  "kernelspec": {
   "display_name": "Python 3 (ipykernel)",
   "language": "python",
   "name": "python3"
  },
  "language_info": {
   "codemirror_mode": {
    "name": "ipython",
    "version": 3
   },
   "file_extension": ".py",
   "mimetype": "text/x-python",
   "name": "python",
   "nbconvert_exporter": "python",
   "pygments_lexer": "ipython3",
   "version": "3.10.9"
  }
 },
 "nbformat": 4,
 "nbformat_minor": 5
}
